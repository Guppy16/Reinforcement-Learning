{
 "nbformat": 4,
 "nbformat_minor": 2,
 "metadata": {
  "language_info": {
   "name": "python",
   "codemirror_mode": {
    "name": "ipython",
    "version": 3
   },
   "version": "3.7.4"
  },
  "orig_nbformat": 2,
  "file_extension": ".py",
  "mimetype": "text/x-python",
  "name": "python",
  "npconvert_exporter": "python",
  "pygments_lexer": "ipython3",
  "version": 3
 },
 "cells": [
  {
   "cell_type": "code",
   "execution_count": 1,
   "metadata": {},
   "outputs": [],
   "source": [
    "import numpy as np"
   ]
  },
  {
   "cell_type": "code",
   "execution_count": 8,
   "metadata": {},
   "outputs": [
    {
     "ename": "NameError",
     "evalue": "name 'raw_input' is not defined",
     "output_type": "error",
     "traceback": [
      "\u001b[1;31m---------------------------------------------------------------------------\u001b[0m",
      "\u001b[1;31mNameError\u001b[0m                                 Traceback (most recent call last)",
      "\u001b[1;32m<ipython-input-8-231bc16aa14d>\u001b[0m in \u001b[0;36m<module>\u001b[1;34m\u001b[0m\n\u001b[1;32m----> 1\u001b[1;33m \u001b[0ma\u001b[0m \u001b[1;33m=\u001b[0m \u001b[0mraw_input\u001b[0m\u001b[1;33m(\u001b[0m\u001b[1;33m)\u001b[0m\u001b[1;33m\u001b[0m\u001b[1;33m\u001b[0m\u001b[0m\n\u001b[0m",
      "\u001b[1;31mNameError\u001b[0m: name 'raw_input' is not defined"
     ]
    }
   ],
   "source": [
    "a = raw_input()"
   ]
  },
  {
   "cell_type": "code",
   "execution_count": 0,
   "metadata": {},
   "outputs": [],
   "source": [
    "# Create game object\n",
    "class Board:\n",
    "    def __init__(self, dimension = (3,3), win_num = 3):\n",
    "        self.board = np.zeros(dimension) # setup board\n",
    "        self.board -= 1 # initialise all values to -1\n",
    "        self.board = np.int0(self.board) # set values to integer\n",
    "        self.win_num = win_num\n",
    "    \n",
    "    def validate_move(self, pos):\n",
    "        # Expect pos to be an array\n",
    "        '''Check if there isn't already a piece there'''\n",
    "        if self.board[pos[0]][pos[1]] == -1: # Note: needs to be expanded to n-dimensional case\n",
    "            print(\"Already a piece there\")\n",
    "            return False\n",
    "        print(\"Move is fine\")\n",
    "        return True\n",
    "    \n",
    "    def play_move(self, pos, player_num):\n",
    "        if validate_move(pos):\n",
    "            self.board[pos[0]][pos[1]] == player_num # Note: needs to be expanded to n-dimensional case\n",
    "            return True\n",
    "        return False\n",
    "    \n",
    "    def check_diagonal(self):\n",
    "        return False # Default\n",
    "    \n",
    "    def check_horizontal(self):\n",
    "        board_shape = np.shape(self.board)\n",
    "        consecutive = 0 # Keep track of the number of consecutive pieces\n",
    "        player_num = -1 # Keep track of the player_num with consecutives\n",
    "        j = 0\n",
    "        for i in range(board_shape[0]):\n",
    "            consecutive = 0 # Reset counter\n",
    "            player_num = self.board[i,j] # Set player num to index\n",
    "            for j in range(board_shape[1]):\n",
    "                if self.board[i,j] == player_num:\n",
    "                    consecutive += 1\n",
    "                else:\n",
    "                    consecutive = 1 # Reset to 1, cos 1 counter already found\n",
    "                    player_num = self.board[i,j]\n",
    "                if consecutive >= self.win_num and player_num != -1:\n",
    "                    print(\"{} has won!\".format(player_num))\n",
    "                    return player_num\n",
    "        return False # No one won by default\n",
    "    \n",
    "    def check_vertical(self):\n",
    "        return False # Default\n",
    "\n",
    "    def is_game_over(self):\n",
    "        'Return True if someone has got win_num-in-a-row'\n",
    "        if self.check_horizontal() or self.check_vertical() or self.check_diagonal():\n",
    "            return True\n",
    "        return False # Default\n",
    "\n",
    "    def __repr__(self):\n",
    "        return str(self.board)"
   ]
  },
  {
   "cell_type": "code",
   "execution_count": 0,
   "metadata": {},
   "outputs": [],
   "source": [
    "# Create player object\n",
    "class Player:\n",
    "    def __init__(self, name):\n",
    "        self.name = name\n",
    "        self.wld = [0,0,0] # win/loss/draw\n",
    "    \n",
    "    def get_move(self):\n",
    "        '''Get move from player'''\n",
    "        inp = input(\"Which square?\")\n",
    "        return inp.split(\"\")\n",
    "    \n",
    "    def get_games_played(self):\n",
    "        'Get total number of games played'\n",
    "        return sum(self.wld)\n",
    "    \n",
    "    def __repr__(self):\n",
    "        return str(self.name)\n"
   ]
  },
  {
   "cell_type": "code",
   "execution_count": 0,
   "metadata": {},
   "outputs": [],
   "source": [
    "# Create Game Obj\n",
    "class Game:\n",
    "    def __init__(self, dim = (3,3), win_num = 3, num_players = 2):\n",
    "        self.board = Board(dim, win_num)\n",
    "        self.players = [Player(i) for i in range(num_players)]\n",
    "    \n",
    "    def play_game(self):\n",
    "        \"iterate through player moves until game over\"\n",
    "        p_num = 0\n",
    "        while not self.board.is_game_over():\n",
    "            print(p_num)\n",
    "            while True:\n",
    "                p_move = self.players[p_num].get_move()\n",
    "                print(p_move)\n",
    "                if self.board.play_move():\n",
    "                    break\n",
    "            p_num += 1\n",
    "            p_num %= len(self.players)\n",
    "\n",
    "            "
   ]
  },
  {
   "cell_type": "code",
   "execution_count": 0,
   "metadata": {},
   "outputs": [],
   "source": [
    "new_game = Game()\n",
    "new_game.play_game()"
   ]
  },
  {
   "cell_type": "code",
   "metadata": {},
   "outputs": [],
   "source": []
  }
 ]
}